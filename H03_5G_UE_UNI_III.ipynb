{
 "cells": [
  {
   "cell_type": "markdown",
   "metadata": {},
   "source": [
    "## Installation and deployment of 5G UE of Open Air Interface (OAI)\n",
    "## Objectives\n",
    "- Install and configure a UE \n",
    "- See the UE attached to the previous installed gNB and Core"
   ]
  },
  {
   "cell_type": "markdown",
   "metadata": {},
   "source": [
    "At the end of a set of three hands-on (this is the third one), the goal is to run the simulated OAI scenario, which consists of the 5G core (5GC), gNB in CU/DU split mode, and user equipment (UE), according to the image below: \n",
    "\n",
    "![5GC_01](./FIGS/H01_5GCore_UNI_III/5GC_deploy.jpg)\n",
    "\n",
    "Now, we are going to install, configure, deploy and interact to the UE. "
   ]
  },
  {
   "cell_type": "markdown",
   "metadata": {},
   "source": [
    "## UE Installation\n",
    "\n",
    "To install OAI RAN 5G, go back to /home/dco1020/openairinterface5g and follow this tutorial.\n",
    "\n",
    "**Step 0:** go back to /home/dco1020/openairinterface5g. In a Linux Terminal, type:\n",
    "\n",
    "sudo su\n",
    "\n",
    "cd /home/dco1020/openairinterface5g\n",
    "\n",
    "\n",
    "**Step 1:** Run the installation script\n",
    "\n",
    "source oaienv\n",
    "\n",
    "cd cmake_targets\n",
    "\n",
    "sudo ./build_oai -I -w USRP\n",
    "\n",
    "sudo ./build_oai --nrUE -w USRP\n",
    "\n",
    "\n",
    "**Attention**: you may find Wireshark configuration screen, select \"yes\" to continue.\n",
    "\n",
    "**Attention**: be patient, the last command could take a whileeeee.\n"
   ]
  },
  {
   "cell_type": "markdown",
   "metadata": {},
   "source": [
    "## UE Configuration\n",
    "\n",
    "**Step 1:** Configure the IMSI, Permanent Key and OPC\n",
    "\n",
    "This part you will configure the UE parameters. The UE parameters file is /home/dco1020/openairinterface5g/targets/PROJECTS/GENERIC-NR-5GC/CONF/ue.conf. The first three lines of the file are composed by the IMSI, Permanent Key and OPC, as shown in figure below. You will configure these parameters. \n",
    "\n",
    "![UE_config_01](./FIGS/H03_5GUE_UNI_III/UE_config_01.png)\n",
    "\n",
    "You need to check in the docker-compose file (/home/dco1020/oai-cn5g-fed/docker-compose/docker-compose-basic-nrf.yaml) which SQL file the core is using. See figure below. \n",
    "\n",
    "![UE_config_02](./FIGS/H03_5GUE_UNI_III/UE_config_02.png)\n",
    "\n",
    "\n",
    "Verify/change the parameters in UE file (/home/dco1020/openairinterface5g/targets/PROJECTS/GENERIC-NR-5GC/CONF/ue.conf) according to the SQL file illustrated in figure below. The parameters are:\n",
    " - \"ueid\" refers to \"imsi\"\n",
    " - \"encPermanentKey\" refers to \"key\"\n",
    " - \"encOpcKey\" refers to \"opc\n",
    "\n",
    "![UE_config_03](./FIGS/H03_5GUE_UNI_III/UE_config_03.png)\n",
    "\n",
    "To open UE file, type:\n",
    "\n",
    "gedit /home/dco1020/openairinterface5g/targets/PROJECTS/GENERIC-NR-5GC/CONF/ue.conf\n",
    "\n",
    "To open Docker Composer file, type:\n",
    "\n",
    "gedit /home/dco1020/oai-cn5g-fed/docker-compose/docker-compose-basic-nrf.yaml\n",
    "\n",
    "To see sqlFile, type in a terninal.\n",
    "\n",
    "gedit /home/dco1020/oai-cn5g-fed/docker-compose/database/oai_db.sql\n",
    "\n",
    "Or use a SQLLite database visualizer like DB Browser (to install: sudo apt install sqlitebrowser -y).\n",
    "\n",
    "The last three lines of the file are composed of DNN (Data Network Name), N-SSAI SST (Network Slice Selection Assistance Information Slice/Service Type), N-SSAI SD (Network Slice Selection Assistance Information Slice/Service Type). To configure these parameters you will explore the docker-compose file (/home/dco1020/oai-cn5g-fed/docker-compose/docker-compose-basic-nrf.yaml), shown in figure below.\n",
    "\n",
    "![UE_config_06](./FIGS/H03_5GUE_UNI_III/UE_config_06.png)\n",
    "\n",
    "The UE parameters (figure below) must be equal to the OAI SMF parameters in the docker-compose file, as illustrated in the figure below.\n",
    " - \"DNN_NI0\" refers to \"dnn\"\n",
    " - \"NSSAI_SST0\" refers to \"nssai_sst\"\n",
    " - \"NSSAI_SD0\" refers to \"nssai_sd\" (the \"NSSAI_SD0\" parameter is in hexadecimal, but in the \"nssai_sd\" parameter you have to use decimal values) \n",
    "\n",
    "![UE_config_04](./FIGS/H03_5GUE_UNI_III/UE_config_04.png)\n",
    "\n",
    "\n",
    "**Note:** In this version of the tutorial, the network slice is limited a just one slice (DNN=oai), because we do not use the NSSF (Network Slice Selection Function).\n",
    "\n"
   ]
  },
  {
   "cell_type": "markdown",
   "metadata": {},
   "source": [
    "## UE Deployment\n",
    "\n",
    "There are some important parameters in the UE deployment command. First, in \"RFSIMULATOR\" the IP 192.168.70.129 is the first valid IP of the subnet configured in the installation of teh gNB. The parameters \"-r\", \"--numerology\", \"--band\" and \"-C\" are respectively the number of PRBs, the 5G numerology, the operating band and the frequency of the synchronization block (SSB).  \n",
    "\n",
    "**Step 1:** to deply a UE, type in a terminal:\n",
    "\n",
    "sudo su\n",
    "\n",
    "cd /home/dco1020/openairinterface5g/cmake_targets/ran_build/build/\n",
    "\n",
    "sudo RFSIMULATOR=192.168.70.129 ./nr-uesoftmodem -r 106 --numerology 1 --band 78 -C 3619200000 --rfsim --sa --nokrnmod -O ../../../targets/PROJECTS/GENERIC-NR-5GC/CONF/ue.conf\n",
    "\n",
    "**Step 2**: Expected results:\n",
    "\n",
    "To verify that the connection with the UE has been established, make sure that a tunnel for the UE has been created. In a terminal, type:\n",
    "\n",
    "ifconfig --all\n",
    "\n",
    "The expected result is shown in figure below, where an IP address has been assigned to the UE.\n",
    "\n",
    "\n",
    "![UE_config_05](./FIGS/H02_5GRAN_UNI_III/UE_config_05.png)\n",
    "\n",
    "\n",
    "\n",
    "\n",
    "\n",
    "\n"
   ]
  },
  {
   "cell_type": "markdown",
   "metadata": {},
   "source": [
    "# Deliverable 02:\n",
    "\n",
    "- Inspec the gNB configuration files and change its name to gNB-DCO1020. Show the new gNB name in the AMF log file."
   ]
  }
 ],
 "metadata": {
  "kernelspec": {
   "display_name": "Python 3",
   "language": "python",
   "name": "python3"
  },
  "language_info": {
   "codemirror_mode": {
    "name": "ipython",
    "version": 3
   },
   "file_extension": ".py",
   "mimetype": "text/x-python",
   "name": "python",
   "nbconvert_exporter": "python",
   "pygments_lexer": "ipython3",
   "version": "3.6.2"
  }
 },
 "nbformat": 4,
 "nbformat_minor": 2
}
